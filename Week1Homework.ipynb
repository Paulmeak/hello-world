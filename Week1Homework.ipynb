{
  "nbformat": 4,
  "nbformat_minor": 0,
  "metadata": {
    "colab": {
      "name": "Week1Homework.ipynb",
      "provenance": [],
      "authorship_tag": "ABX9TyNlXnqZ/Zmmpz0hb+Kckv88",
      "include_colab_link": true
    },
    "kernelspec": {
      "name": "python3",
      "display_name": "Python 3"
    }
  },
  "cells": [
    {
      "cell_type": "markdown",
      "metadata": {
        "id": "view-in-github",
        "colab_type": "text"
      },
      "source": [
        "<a href=\"https://colab.research.google.com/github/Paulmeak/hello-world/blob/main/Week1Homework.ipynb\" target=\"_parent\"><img src=\"https://colab.research.google.com/assets/colab-badge.svg\" alt=\"Open In Colab\"/></a>"
      ]
    },
    {
      "cell_type": "markdown",
      "metadata": {
        "id": "T02HnxeeEC19"
      },
      "source": [
        "Name: Paul Meak.\n",
        "\n",
        "Posistion: First year transfer student. \n",
        "\n",
        "Favorite quote: \"Life is like a box of chocolates; you never know what you're gonna get.\""
      ]
    },
    {
      "cell_type": "code",
      "metadata": {
        "colab": {
          "base_uri": "https://localhost:8080/"
        },
        "id": "GK_Y2NbhEXOe",
        "outputId": "1509bc10-87cc-4237-f717-c28994b7990e"
      },
      "source": [
        "print (\"Hello World!\")"
      ],
      "execution_count": null,
      "outputs": [
        {
          "output_type": "stream",
          "text": [
            "Hello World!\n"
          ],
          "name": "stdout"
        }
      ]
    }
  ]
}